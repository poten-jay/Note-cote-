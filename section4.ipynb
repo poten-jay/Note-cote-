import pnadas as pd
import numpy as np

a1 = 1
a2 = 2
a1 + a2

